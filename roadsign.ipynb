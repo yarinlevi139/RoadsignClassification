{
 "cells": [
  {
   "cell_type": "code",
   "execution_count": 3,
   "id": "2c6f6226-7755-44af-9f2e-988dedfc2f73",
   "metadata": {},
   "outputs": [],
   "source": [
    "import pandas as pd\n",
    "import tensorflow as tf\n",
    "import keras\n",
    "from keras.preprocessing.image import load_img, img_to_array, ImageDataGenerator\n",
    "from keras.models import Sequential\n",
    "from keras.applications import InceptionV3\n",
    "from keras.utils import to_categorical\n",
    "from keras.layers import Dense, Flatten,BatchNormalization, Dropout, Lambda, Conv2D, MaxPool2D\n",
    "import seaborn as sns\n",
    "import numpy as np\n",
    "import matplotlib.pyplot as plt\n",
    "from keras.callbacks import EarlyStopping  # Import EarlyStopping\n",
    "from keras.metrics import Precision, Recall  # Import Precision and Recall\n",
    "from sklearn.metrics import accuracy_score, precision_score, recall_score\n",
    "\n",
    "\n",
    "\n",
    "%matplotlib inline"
   ]
  },
  {
   "cell_type": "code",
   "execution_count": 4,
   "id": "afcf21ca-fbd4-4a43-9043-4653522ed2b6",
   "metadata": {},
   "outputs": [],
   "source": [
    "data = pd.read_pickle(r'C:\\Users\\User\\Downloads\\data1.pickle\\data1.pickle')"
   ]
  },
  {
   "cell_type": "code",
   "execution_count": 5,
   "id": "a79f3176-9c88-4c35-acf4-3889ed211ce0",
   "metadata": {},
   "outputs": [],
   "source": [
    "def resize(img_batch, method='nearest'):\n",
    "    # Assuming img_batch is of shape (number_of_images, 32, 32, 3)\n",
    "    number_of_images = img_batch.shape[0]\n",
    "    new_array = np.zeros((number_of_images, 64, 64, 3))\n",
    "    \n",
    "    for i in range(number_of_images):\n",
    "        # Resizing each image in the batch to (64, 64) using the specified method\n",
    "        # 'nearest' method can make the resized images appear sharper\n",
    "        new_array[i] = tf.image.resize(img_batch[i], (64, 64), method=method).numpy()\n",
    "    \n",
    "    return new_array\n",
    "\n",
    "NumberofClass = 43\n",
    "\n",
    "x_train = data['x_train']\n",
    "y_train = data['y_train']\n",
    "x_test = data['x_test']\n",
    "y_test = data['y_test']\n",
    "x_val = data['x_validation']\n",
    "y_val = data['y_validation']\n",
    "\n",
    "x_train = x_train.swapaxes(1,2)\n",
    "x_train = x_train.swapaxes(2,3)\n",
    "x_test = x_test.swapaxes(1,2)\n",
    "x_test = x_test.swapaxes(2,3)\n",
    "x_val = x_val.swapaxes(1,2)\n",
    "x_val = x_val.swapaxes(2,3)\n",
    "\n",
    "y_train = to_categorical(y_train, num_classes = NumberofClass)\n",
    "y_val = to_categorical(y_val, num_classes = NumberofClass)\n",
    "y_test = to_categorical(y_test, num_classes = NumberofClass)\n",
    "\n",
    "\n",
    "x_train = resize(x_train)\n",
    "x_test = resize(x_test)\n",
    "x_val = resize(x_val)"
   ]
  },
  {
   "cell_type": "code",
   "execution_count": 14,
   "id": "b6669c49-cb70-4aca-b42a-164e6bb7e04f",
   "metadata": {},
   "outputs": [
    {
     "data": {
      "text/plain": [
       "array([25, 11, 38, ...,  8, 33, 10], dtype=uint8)"
      ]
     },
     "execution_count": 14,
     "metadata": {},
     "output_type": "execute_result"
    }
   ],
   "source": []
  },
  {
   "cell_type": "code",
   "execution_count": 7,
   "id": "2a32a6eb-5c0a-4500-ad73-3505a5ca941f",
   "metadata": {},
   "outputs": [
    {
     "name": "stdout",
     "output_type": "stream",
     "text": [
      "[0. 0. 0. 0. 1. 0. 0. 0. 0. 0. 0. 0. 0. 0. 0. 0. 0. 0. 0. 0. 0. 0. 0. 0.\n",
      " 0. 0. 0. 0. 0. 0. 0. 0. 0. 0. 0. 0. 0. 0. 0. 0. 0. 0. 0.]\n"
     ]
    },
    {
     "data": {
      "image/png": "[encoded data removed]",
      "text/plain": [
       "<Figure size 640x480 with 1 Axes>"
      ]
     },
     "metadata": {},
     "output_type": "display_data"
    },
    {
     "name": "stdout",
     "output_type": "stream",
     "text": [
      "[0. 0. 0. 0. 0. 0. 0. 0. 0. 0. 0. 0. 0. 0. 0. 0. 0. 1. 0. 0. 0. 0. 0. 0.\n",
      " 0. 0. 0. 0. 0. 0. 0. 0. 0. 0. 0. 0. 0. 0. 0. 0. 0. 0. 0.]\n"
     ]
    },
    {
     "data": {
      "image/png": "[encoded data removed]",
      "text/plain": [
       "<Figure size 640x480 with 1 Axes>"
      ]
     },
     "metadata": {},
     "output_type": "display_data"
    },
    {
     "name": "stdout",
     "output_type": "stream",
     "text": [
      "[0. 0. 0. 0. 0. 0. 0. 0. 0. 0. 0. 0. 0. 0. 0. 0. 0. 0. 0. 0. 0. 0. 0. 0.\n",
      " 0. 0. 0. 0. 0. 0. 0. 0. 0. 0. 0. 0. 0. 1. 0. 0. 0. 0. 0.]\n"
     ]
    },
    {
     "data": {
      "image/png": "[encoded data removed]",
      "text/plain": [
       "<Figure size 640x480 with 1 Axes>"
      ]
     },
     "metadata": {},
     "output_type": "display_data"
    }
   ],
   "source": [
    "lst = [5, 532, 2151]\n",
    "for i in lst:\n",
    "    print(y_train[i])\n",
    "    plt.imshow(x_train[i])\n",
    "    plt.axis('off')\n",
    "    plt.show()\n"
   ]
  },
  {
   "cell_type": "code",
   "execution_count": 12,
   "id": "a8290dee-3ba3-4df7-b6ca-8968636d227d",
   "metadata": {},
   "outputs": [
    {
     "data": {
      "text/plain": [
       "array([[[0.22745098, 0.2       , 0.16470589],\n",
       "        [0.22745098, 0.2       , 0.16470589],\n",
       "        [0.23137255, 0.2       , 0.15294118],\n",
       "        ...,\n",
       "        [0.80392158, 0.84705883, 0.9137255 ],\n",
       "        [0.79607844, 0.84705883, 0.91764706],\n",
       "        [0.79607844, 0.84705883, 0.91764706]],\n",
       "\n",
       "       [[0.22745098, 0.2       , 0.16470589],\n",
       "        [0.22745098, 0.2       , 0.16470589],\n",
       "        [0.23137255, 0.2       , 0.15294118],\n",
       "        ...,\n",
       "        [0.80392158, 0.84705883, 0.9137255 ],\n",
       "        [0.79607844, 0.84705883, 0.91764706],\n",
       "        [0.79607844, 0.84705883, 0.91764706]],\n",
       "\n",
       "       [[0.19215687, 0.17647059, 0.14509805],\n",
       "        [0.19215687, 0.17647059, 0.14509805],\n",
       "        [0.20392157, 0.20392157, 0.17254902],\n",
       "        ...,\n",
       "        [0.80784315, 0.85490197, 0.9254902 ],\n",
       "        [0.80000001, 0.8509804 , 0.9254902 ],\n",
       "        [0.80000001, 0.8509804 , 0.9254902 ]],\n",
       "\n",
       "       ...,\n",
       "\n",
       "       [[0.24705882, 0.23137255, 0.18039216],\n",
       "        [0.24705882, 0.23137255, 0.18039216],\n",
       "        [0.40000001, 0.34117648, 0.30588236],\n",
       "        ...,\n",
       "        [0.23921569, 0.23137255, 0.2       ],\n",
       "        [0.19215687, 0.19215687, 0.18431373],\n",
       "        [0.19215687, 0.19215687, 0.18431373]],\n",
       "\n",
       "       [[0.26274511, 0.22352941, 0.17647059],\n",
       "        [0.26274511, 0.22352941, 0.17647059],\n",
       "        [0.37254903, 0.35686275, 0.32549021],\n",
       "        ...,\n",
       "        [0.22745098, 0.25490198, 0.22352941],\n",
       "        [0.22745098, 0.20784314, 0.19215687],\n",
       "        [0.22745098, 0.20784314, 0.19215687]],\n",
       "\n",
       "       [[0.26274511, 0.22352941, 0.17647059],\n",
       "        [0.26274511, 0.22352941, 0.17647059],\n",
       "        [0.37254903, 0.35686275, 0.32549021],\n",
       "        ...,\n",
       "        [0.22745098, 0.25490198, 0.22352941],\n",
       "        [0.22745098, 0.20784314, 0.19215687],\n",
       "        [0.22745098, 0.20784314, 0.19215687]]])"
      ]
     },
     "execution_count": 12,
     "metadata": {},
     "output_type": "execute_result"
    }
   ],
   "source": [
    "x_test[0]"
   ]
  },
  {
   "cell_type": "code",
   "execution_count": 7,
   "id": "4ce6008f-0bc0-4b03-8c2c-8fe6096774b2",
   "metadata": {},
   "outputs": [
    {
     "name": "stdout",
     "output_type": "stream",
     "text": [
      "Epoch 1/20\n",
      "2719/2719 [==============================] - 15s 5ms/step - loss: 1.6786 - accuracy: 0.6536 - precision: 0.8033 - recall: 0.4853 - val_loss: 1.7473 - val_accuracy: 0.6605 - val_precision: 0.7286 - val_recall: 0.5687\n",
      "Epoch 2/20\n",
      "2719/2719 [==============================] - 14s 5ms/step - loss: 1.0797 - accuracy: 0.7884 - precision: 0.8605 - recall: 0.6886 - val_loss: 1.6921 - val_accuracy: 0.7048 - val_precision: 0.7738 - val_recall: 0.6440\n",
      "Epoch 3/20\n",
      "2719/2719 [==============================] - 15s 6ms/step - loss: 0.9332 - accuracy: 0.8207 - precision: 0.8770 - recall: 0.7467 - val_loss: 1.7303 - val_accuracy: 0.7342 - val_precision: 0.7762 - val_recall: 0.6819\n",
      "Epoch 4/20\n",
      "2719/2719 [==============================] - 15s 6ms/step - loss: 0.8703 - accuracy: 0.8350 - precision: 0.8825 - recall: 0.7743 - val_loss: 1.8133 - val_accuracy: 0.7540 - val_precision: 0.7964 - val_recall: 0.7175\n",
      "Epoch 5/20\n",
      "2719/2719 [==============================] - 14s 5ms/step - loss: 0.7789 - accuracy: 0.8520 - precision: 0.8930 - recall: 0.8009 - val_loss: 2.1257 - val_accuracy: 0.7152 - val_precision: 0.7538 - val_recall: 0.6782\n",
      "Epoch 6/20\n",
      "2719/2719 [==============================] - 15s 6ms/step - loss: 0.7288 - accuracy: 0.8634 - precision: 0.8990 - recall: 0.8162 - val_loss: 2.0280 - val_accuracy: 0.7551 - val_precision: 0.7872 - val_recall: 0.7129\n",
      "Epoch 7/20\n",
      "2719/2719 [==============================] - 15s 5ms/step - loss: 0.6915 - accuracy: 0.8691 - precision: 0.9036 - recall: 0.8273 - val_loss: 1.9667 - val_accuracy: 0.7510 - val_precision: 0.7828 - val_recall: 0.7259\n",
      "Epoch 8/20\n",
      "2719/2719 [==============================] - 15s 6ms/step - loss: 0.6669 - accuracy: 0.8752 - precision: 0.9069 - recall: 0.8369 - val_loss: 1.9245 - val_accuracy: 0.7556 - val_precision: 0.7888 - val_recall: 0.7188\n",
      "Epoch 9/20\n",
      "2719/2719 [==============================] - 14s 5ms/step - loss: 0.6355 - accuracy: 0.8845 - precision: 0.9124 - recall: 0.8477 - val_loss: 1.6582 - val_accuracy: 0.7821 - val_precision: 0.8126 - val_recall: 0.7569\n",
      "Epoch 10/20\n",
      "2719/2719 [==============================] - 13s 5ms/step - loss: 0.6022 - accuracy: 0.8874 - precision: 0.9152 - recall: 0.8531 - val_loss: 1.8665 - val_accuracy: 0.7723 - val_precision: 0.7984 - val_recall: 0.7506\n",
      "Epoch 11/20\n",
      "2719/2719 [==============================] - 13s 5ms/step - loss: 0.5876 - accuracy: 0.8897 - precision: 0.9161 - recall: 0.8584 - val_loss: 2.0901 - val_accuracy: 0.7653 - val_precision: 0.7873 - val_recall: 0.7422\n",
      "Epoch 12/20\n",
      "2719/2719 [==============================] - ETA: 0s - loss: 0.5627 - accuracy: 0.8957 - precision: 0.9190 - recall: 0.8651Restoring model weights from the end of the best epoch: 9.\n",
      "2719/2719 [==============================] - 14s 5ms/step - loss: 0.5627 - accuracy: 0.8957 - precision: 0.9190 - recall: 0.8651 - val_loss: 2.1837 - val_accuracy: 0.7685 - val_precision: 0.7941 - val_recall: 0.7494\n",
      "Epoch 12: early stopping\n",
      "395/395 [==============================] - 1s 2ms/step\n",
      "Test accuracy: 0.7861441013460015, Test precision: 0.7933757871743271, Test recall: 0.7384887650827995\n"
     ]
    }
   ],
   "source": [
    "# Model definition\n",
    "model = Sequential([\n",
    "    Flatten(input_shape=(64, 64, 3)),  # Flatten the input images to 1D vectors\n",
    "    Dense(NumberofClass, activation='softmax')  # Logistic regression/softmax layer\n",
    "])\n",
    "\n",
    "# Compile the model with precision and recall in the metrics\n",
    "model.compile(optimizer='adam',\n",
    "              loss='categorical_crossentropy',\n",
    "              metrics=['accuracy', Precision(), Recall()])\n",
    "\n",
    "# Define EarlyStopping callback\n",
    "early_stopping = EarlyStopping(monitor='val_accuracy', min_delta=0.001, patience=3, verbose=1, restore_best_weights=True)\n",
    "        \n",
    "# Training the model with early stopping\n",
    "history = model.fit(x_train, y_train, epochs=20, validation_data=(x_val, y_val), callbacks=[early_stopping])\n",
    "\n",
    "# Use model.predict to get the raw model predictions\n",
    "predictions = model.predict(x_test)\n",
    "\n",
    "# Convert predictions from probabilities to class labels\n",
    "predicted_classes = np.argmax(predictions, axis=1)\n",
    "true_classes = np.argmax(y_test, axis=1)\n",
    "\n",
    "# Calculate accuracy, precision, and recall\n",
    "accuracy = accuracy_score(true_classes, predicted_classes)\n",
    "precision = precision_score(true_classes, predicted_classes, average='macro')\n",
    "recall = recall_score(true_classes, predicted_classes, average='macro')\n",
    "\n",
    "# print the results\n",
    "print(f'Test accuracy: {accuracy}, Test precision: {precision}, Test recall: {recall}')"
   ]
  },
  {
   "cell_type": "code",
   "execution_count": 9,
   "id": "5274fa28",
   "metadata": {},
   "outputs": [
    {
     "name": "stdout",
     "output_type": "stream",
     "text": [
      "Epoch 1/20\n",
      "2719/2719 [==============================] - 21s 7ms/step - loss: 1.8583 - accuracy: 0.4746 - val_loss: 1.4982 - val_accuracy: 0.5932\n",
      "Epoch 2/20\n",
      "2719/2719 [==============================] - 19s 7ms/step - loss: 0.8855 - accuracy: 0.7527 - val_loss: 1.0875 - val_accuracy: 0.7304\n",
      "Epoch 3/20\n",
      "2719/2719 [==============================] - 19s 7ms/step - loss: 0.6556 - accuracy: 0.8167 - val_loss: 0.9882 - val_accuracy: 0.7460\n",
      "Epoch 4/20\n",
      "2719/2719 [==============================] - 19s 7ms/step - loss: 0.5372 - accuracy: 0.8478 - val_loss: 0.8895 - val_accuracy: 0.7864\n",
      "Epoch 5/20\n",
      "2719/2719 [==============================] - 19s 7ms/step - loss: 0.4761 - accuracy: 0.8642 - val_loss: 0.8402 - val_accuracy: 0.8086\n",
      "Epoch 6/20\n",
      "2719/2719 [==============================] - 19s 7ms/step - loss: 0.4228 - accuracy: 0.8784 - val_loss: 0.8385 - val_accuracy: 0.8032\n",
      "Epoch 7/20\n",
      "2719/2719 [==============================] - 18s 7ms/step - loss: 0.3892 - accuracy: 0.8884 - val_loss: 0.8171 - val_accuracy: 0.8163\n",
      "Epoch 8/20\n",
      "2719/2719 [==============================] - 18s 7ms/step - loss: 0.3588 - accuracy: 0.8984 - val_loss: 0.9648 - val_accuracy: 0.7803\n",
      "Epoch 9/20\n",
      "2719/2719 [==============================] - 18s 7ms/step - loss: 0.3372 - accuracy: 0.9030 - val_loss: 0.8534 - val_accuracy: 0.8147\n",
      "Epoch 10/20\n",
      "2717/2719 [============================>.] - ETA: 0s - loss: 0.3164 - accuracy: 0.9095Restoring model weights from the end of the best epoch: 7.\n",
      "2719/2719 [==============================] - 18s 7ms/step - loss: 0.3164 - accuracy: 0.9094 - val_loss: 0.8742 - val_accuracy: 0.8016\n",
      "Epoch 10: early stopping\n",
      "395/395 [==============================] - 1s 2ms/step\n",
      "Test accuracy: 0.7882818685669042, Test precision: 0.7436761776373175, Test recall: 0.7524472524255134\n"
     ]
    }
   ],
   "source": [
    "# Model definition with more layers\n",
    "model = Sequential([\n",
    "    Flatten(input_shape=(64, 64, 3)),  # Flatten the input images to 1D vectors\n",
    "    Dense(64, activation='relu'),  # First hidden layer with ReLU activation\n",
    "    Dense(64, activation='relu'),   # Second hidden layer with ReLU activation\n",
    "    Dense(32, activation='relu'),   # Third hidden layer with ReLU activation\n",
    "    Dense(32, activation='relu'),   # Fourth hidden layer with ReLU activation\n",
    "    Dense(NumberofClass, activation='softmax')  # Output layer with softmax activation for multi-class classification\n",
    "])\n",
    "\n",
    "# Compile the model\n",
    "model.compile(optimizer='adam',\n",
    "              loss='categorical_crossentropy',\n",
    "              metrics=['accuracy'])\n",
    "\n",
    "# Define EarlyStopping callback\n",
    "early_stopping = EarlyStopping(monitor='val_accuracy', min_delta=0.001, patience=3, verbose=1, restore_best_weights=True)\n",
    "\n",
    "# Training the model with early stopping\n",
    "history = model.fit(x_train, y_train, epochs=20, validation_data=(x_val, y_val), callbacks=[early_stopping])\n",
    "\n",
    "# Use model.predict to get the raw model predictions\n",
    "predictions = model.predict(x_test)\n",
    "\n",
    "# Convert predictions from probabilities to class labels\n",
    "predicted_classes = np.argmax(predictions, axis=1)\n",
    "true_classes = np.argmax(y_test, axis=1)\n",
    "\n",
    "# Calculate accuracy, precision, and recall\n",
    "accuracy = accuracy_score(true_classes, predicted_classes)\n",
    "precision = precision_score(true_classes, predicted_classes, average='macro')\n",
    "recall = recall_score(true_classes, predicted_classes, average='macro')\n",
    "\n",
    "# print the results\n",
    "print(f'Test accuracy: {accuracy}, Test precision: {precision}, Test recall: {recall}')"
   ]
  },
  {
   "cell_type": "code",
   "execution_count": 14,
   "id": "3696bbcf",
   "metadata": {},
   "outputs": [
    {
     "name": "stdout",
     "output_type": "stream",
     "text": [
      "Epoch 1/20\n",
      "2719/2719 [==============================] - 335s 122ms/step - loss: 1.1096 - accuracy: 0.6742 - val_loss: 0.3356 - val_accuracy: 0.9020\n",
      "Epoch 2/20\n",
      "2719/2719 [==============================] - 318s 117ms/step - loss: 0.2183 - accuracy: 0.9330 - val_loss: 0.2452 - val_accuracy: 0.9299\n",
      "Epoch 3/20\n",
      "2719/2719 [==============================] - 266s 98ms/step - loss: 0.1412 - accuracy: 0.9557 - val_loss: 0.1575 - val_accuracy: 0.9501\n",
      "Epoch 4/20\n",
      "2719/2719 [==============================] - 264s 97ms/step - loss: 0.1079 - accuracy: 0.9665 - val_loss: 0.1758 - val_accuracy: 0.9587\n",
      "Epoch 5/20\n",
      "2719/2719 [==============================] - 267s 98ms/step - loss: 0.0903 - accuracy: 0.9716 - val_loss: 0.1888 - val_accuracy: 0.9596\n",
      "Epoch 6/20\n",
      "2719/2719 [==============================] - 270s 99ms/step - loss: 0.0765 - accuracy: 0.9763 - val_loss: 0.1021 - val_accuracy: 0.9671\n",
      "Epoch 7/20\n",
      "2719/2719 [==============================] - 271s 99ms/step - loss: 0.0683 - accuracy: 0.9788 - val_loss: 0.1126 - val_accuracy: 0.9655\n",
      "Epoch 8/20\n",
      "2719/2719 [==============================] - 267s 98ms/step - loss: 0.0621 - accuracy: 0.9802 - val_loss: 0.0995 - val_accuracy: 0.9683\n",
      "Epoch 9/20\n",
      "2719/2719 [==============================] - 267s 98ms/step - loss: 0.0635 - accuracy: 0.9805 - val_loss: 0.1185 - val_accuracy: 0.9701\n",
      "Epoch 10/20\n",
      "2719/2719 [==============================] - 268s 99ms/step - loss: 0.0468 - accuracy: 0.9856 - val_loss: 0.1837 - val_accuracy: 0.9517\n",
      "Epoch 11/20\n",
      "2719/2719 [==============================] - 266s 98ms/step - loss: 0.0469 - accuracy: 0.9855 - val_loss: 0.0909 - val_accuracy: 0.9780\n",
      "Epoch 12/20\n",
      "2719/2719 [==============================] - 267s 98ms/step - loss: 0.0374 - accuracy: 0.9882 - val_loss: 0.1165 - val_accuracy: 0.9728\n",
      "Epoch 13/20\n",
      "2719/2719 [==============================] - 267s 98ms/step - loss: 0.0407 - accuracy: 0.9878 - val_loss: 0.1013 - val_accuracy: 0.9746\n",
      "Epoch 14/20\n",
      "2718/2719 [============================>.] - ETA: 0s - loss: 0.0362 - accuracy: 0.9888Restoring model weights from the end of the best epoch: 11.\n",
      "2719/2719 [==============================] - 268s 98ms/step - loss: 0.0363 - accuracy: 0.9888 - val_loss: 0.1382 - val_accuracy: 0.9787\n",
      "Epoch 14: early stopping\n",
      "395/395 [==============================] - 11s 27ms/step\n",
      "Test accuracy: 0.9636579572446555, Test precision: 0.939441929808578, Test recall: 0.9444351053769658\n"
     ]
    }
   ],
   "source": [
    "#CNN model\n",
    "model = Sequential()\n",
    "\n",
    "\n",
    "model.add(Conv2D(filters = 64, kernel_size = (3,3), padding = \"Same\", activation = \"relu\", input_shape = (64,64,3)))\n",
    "\n",
    "model.add(MaxPool2D(pool_size = (2,2)))\n",
    "\n",
    "model.add(Conv2D(filters = 64, kernel_size = (3,3), padding = \"Same\", activation = \"relu\" ))\n",
    "\n",
    "model.add(MaxPool2D(pool_size = (2,2)))\n",
    "\n",
    "model.add(Conv2D(filters = 32, kernel_size = (3,3), padding = \"Same\", activation = \"relu\" ))\n",
    "\n",
    "model.add(MaxPool2D(pool_size = (2,2)))\n",
    "\n",
    "model.add(Conv2D(filters = 32, kernel_size = (3,3), padding = \"Same\", activation = \"relu\" ))\n",
    "\n",
    "model.add(MaxPool2D(pool_size = (2,2)))\n",
    "\n",
    "model.add(Flatten())\n",
    "\n",
    "model.add(Dense(units = 256, activation = \"relu\"))\n",
    "\n",
    "model.add(Dropout(0.5))\n",
    "\n",
    "model.add(BatchNormalization())\n",
    "\n",
    "model.add(Dense(units = NumberofClass, activation = \"softmax\"))\n",
    "\n",
    "model.compile(optimizer = \"adam\", loss = \"categorical_crossentropy\", metrics = [\"accuracy\"])\n",
    "\n",
    "early_stopping = EarlyStopping(monitor='val_accuracy', min_delta=0.001, patience=3, verbose=1, restore_best_weights=True)\n",
    "hist = model.fit(x_train, y_train, batch_size = 32,\n",
    "                    epochs = 20, validation_data = (x_val, y_val),callbacks=[early_stopping])\n",
    "\n",
    "predictions = model.predict(x_test)\n",
    "\n",
    "# Convert predictions from probabilities to class labels\n",
    "predicted_classes = np.argmax(predictions, axis=1)\n",
    "true_classes = np.argmax(y_test, axis=1)\n",
    "\n",
    "# Calculate accuracy, precision, and recall\n",
    "accuracy = accuracy_score(true_classes, predicted_classes)\n",
    "precision = precision_score(true_classes, predicted_classes, average='macro')\n",
    "recall = recall_score(true_classes, predicted_classes, average='macro')\n",
    "\n",
    "# print the results\n",
    "print(f'Test accuracy: {accuracy}, Test precision: {precision}, Test recall: {recall}')"
   ]
  },
  {
   "cell_type": "code",
   "execution_count": null,
   "id": "d322801a",
   "metadata": {},
   "outputs": [],
   "source": []
  }
 ],
 "metadata": {
  "kernelspec": {
   "display_name": "Python 3 (ipykernel)",
   "language": "python",
   "name": "python3"
  },
  "language_info": {
   "codemirror_mode": {
    "name": "ipython",
    "version": 3
   },
   "file_extension": ".py",
   "mimetype": "text/x-python",
   "name": "python",
   "nbconvert_exporter": "python",
   "pygments_lexer": "ipython3",
   "version": "3.11.5"
  }
 },
 "nbformat": 4,
 "nbformat_minor": 5
}
